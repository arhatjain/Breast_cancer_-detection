{
  "cells": [
    {
      "cell_type": "code",
      "execution_count": null,
      "metadata": {
        "id": "eqRJVl5nuJIu"
      },
      "outputs": [],
      "source": [
        "from sklearn.model_selection import train_test_split\n",
        "from tensorflow.keras import layers\n",
        "from tensorflow import keras\n",
        "import matplotlib as plt\n",
        "%matplotlib inline"
      ]
    },
    {
      "cell_type": "code",
      "execution_count": null,
      "metadata": {
        "id": "lspownnkuJIu"
      },
      "outputs": [],
      "source": [
        "train_link=\"D:\\dl_dataset/breast_cancer_data/train\"\n",
        "test_link='D:\\dl_dataset/breast_cancer_data/test'\n",
        "validation_link='D:\\dl_dataset/breast_cancer_data/validation'\n"
      ]
    },
    {
      "cell_type": "code",
      "execution_count": null,
      "metadata": {
        "id": "rnDJlZuwuJIv"
      },
      "outputs": [],
      "source": [
        "from tensorflow.keras.preprocessing.image import ImageDataGenerator\n",
        "train_datagen=ImageDataGenerator(rescale=1./255,\n",
        "                                rotation_range=90,\n",
        "                                vertical_flip=True,\n",
        "                                horizontal_flip=True,\n",
        "                                width_shift_range=0.2, \n",
        "                                zoom_range=0.2,\n",
        "                                )\n",
        "validation_datagen=ImageDataGenerator(rescale=1./255)"
      ]
    },
    {
      "cell_type": "code",
      "execution_count": null,
      "metadata": {
        "id": "aaJKcgU0uJIv",
        "outputId": "5d79be7c-37e6-4f27-9172-0dca46ec2752"
      },
      "outputs": [
        {
          "name": "stdout",
          "output_type": "stream",
          "text": [
            "Found 5877 images belonging to 2 classes.\n",
            "Found 1469 images belonging to 2 classes.\n"
          ]
        }
      ],
      "source": [
        "train_generator=train_datagen.flow_from_directory(train_link,\n",
        "                                                 target_size=(250,300),\n",
        "                                                 batch_size=32,\n",
        "                                                class_mode='binary'\n",
        "                                                 )\n",
        "validation_generator=validation_datagen.flow_from_directory(validation_link,\n",
        "                                                 target_size=(250,300),\n",
        "                                                 batch_size=32,\n",
        "                                                class_mode='binary'      \n",
        "                                                 )"
      ]
    },
    {
      "cell_type": "code",
      "execution_count": null,
      "metadata": {
        "id": "WK8jtj0PuJIw"
      },
      "outputs": [],
      "source": [
        ""
      ]
    },
    {
      "cell_type": "code",
      "execution_count": null,
      "metadata": {
        "id": "ubOMQrI_uJIw"
      },
      "outputs": [],
      "source": [
        "model=keras.models.Sequential()\n",
        "\n",
        "model.add(keras.layers.Conv2D(32,(3,3),activation='relu',input_shape=(250,300,3)))\n",
        "model.add(keras.layers.MaxPooling2D((2,2)))\n",
        "model.add(keras.layers.Conv2D(64,(3,3),activation='relu',input_shape=(250,300,3)))\n",
        "model.add(keras.layers.MaxPooling2D((2,2)))\n",
        "model.add(keras.layers.Conv2D(128,(3,3),activation='relu',input_shape=(250,300,3)))\n",
        "model.add(keras.layers.MaxPooling2D((2,2)))\n",
        "model.add(keras.layers.Conv2D(128,(3,3),activation='relu',input_shape=(250,300,3)))\n",
        "model.add(keras.layers.MaxPooling2D((2,2)))\n",
        "model.add(keras.layers.Conv2D(256,(3,3),activation='relu',input_shape=(250,300,3)))\n",
        "model.add(keras.layers.MaxPooling2D((2,2)))\n",
        "model.add(keras.layers.Flatten())\n",
        "model.add(keras.layers.Dropout(0.5))\n",
        "model.add(keras.layers.Dense(512,activation='relu',input_shape=(250,300,3)))\n",
        "model.add(keras.layers.BatchNormalization())\n",
        "model.add(keras.layers.Dense(1,activation='sigmoid'))\n"
      ]
    },
    {
      "cell_type": "code",
      "execution_count": null,
      "metadata": {
        "id": "ufL5Ywf2uJIw"
      },
      "outputs": [],
      "source": [
        "model.compile(loss='binary_crossentropy',\n",
        "              optimizer=keras.optimizers.Adam(lr=1e-4),\n",
        "              metrics=['acc']\n",
        "              )"
      ]
    },
    {
      "cell_type": "code",
      "execution_count": null,
      "metadata": {
        "id": "1xYkKrzBuJIx"
      },
      "outputs": [],
      "source": [
        "checkpoint_cb=keras.callbacks.ModelCheckpoint('CNN-mode-{epoch:02d}.h5')"
      ]
    },
    {
      "cell_type": "code",
      "execution_count": null,
      "metadata": {
        "scrolled": true,
        "id": "-07rfYakuJIx",
        "outputId": "1d6fa39d-eae6-419c-9a7c-ab671563dd84"
      },
      "outputs": [
        {
          "name": "stdout",
          "output_type": "stream",
          "text": [
            "WARNING:tensorflow:sample_weight modes were coerced from\n",
            "  ...\n",
            "    to  \n",
            "  ['...']\n",
            "WARNING:tensorflow:sample_weight modes were coerced from\n",
            "  ...\n",
            "    to  \n",
            "  ['...']\n",
            "Train for 30 steps, validate for 46 steps\n",
            "Epoch 1/30\n",
            "30/30 [==============================] - 512s 17s/step - loss: 0.6292 - acc: 0.6656 - val_loss: 0.6629 - val_acc: 0.6583\n",
            "Epoch 2/30\n",
            "30/30 [==============================] - 338s 11s/step - loss: 0.5439 - acc: 0.7292 - val_loss: 0.6599 - val_acc: 0.6413\n",
            "Epoch 3/30\n",
            "30/30 [==============================] - 256s 9s/step - loss: 0.5324 - acc: 0.7667 - val_loss: 0.6418 - val_acc: 0.6617\n",
            "Epoch 4/30\n",
            "30/30 [==============================] - 249s 8s/step - loss: 0.5199 - acc: 0.7948 - val_loss: 0.6502 - val_acc: 0.6385\n",
            "Epoch 5/30\n",
            "30/30 [==============================] - 254s 8s/step - loss: 0.4743 - acc: 0.8083 - val_loss: 0.6048 - val_acc: 0.7740\n",
            "Epoch 6/30\n",
            "30/30 [==============================] - 260s 9s/step - loss: 0.4687 - acc: 0.7896 - val_loss: 0.6009 - val_acc: 0.6828\n",
            "Epoch 7/30\n",
            "30/30 [==============================] - 288s 10s/step - loss: 0.4388 - acc: 0.8229 - val_loss: 0.6216 - val_acc: 0.6467\n",
            "Epoch 8/30\n",
            "30/30 [==============================] - 259s 9s/step - loss: 0.4806 - acc: 0.8062 - val_loss: 0.5883 - val_acc: 0.7297\n",
            "Epoch 9/30\n",
            "30/30 [==============================] - 262s 9s/step - loss: 0.4216 - acc: 0.8583 - val_loss: 0.5926 - val_acc: 0.7577\n",
            "Epoch 10/30\n",
            "30/30 [==============================] - 283s 9s/step - loss: 0.4369 - acc: 0.8406 - val_loss: 0.5646 - val_acc: 0.7583\n",
            "Epoch 11/30\n",
            "30/30 [==============================] - 256s 9s/step - loss: 0.4126 - acc: 0.8375 - val_loss: 0.6194 - val_acc: 0.6365\n",
            "Epoch 12/30\n",
            "30/30 [==============================] - 250s 8s/step - loss: 0.4023 - acc: 0.8458 - val_loss: 0.5292 - val_acc: 0.7726\n",
            "Epoch 13/30\n",
            "30/30 [==============================] - 254s 8s/step - loss: 0.4249 - acc: 0.8323 - val_loss: 0.5542 - val_acc: 0.7754\n",
            "Epoch 14/30\n",
            "30/30 [==============================] - 259s 9s/step - loss: 0.3835 - acc: 0.8552 - val_loss: 0.4896 - val_acc: 0.8182\n",
            "Epoch 15/30\n",
            "30/30 [==============================] - 258s 9s/step - loss: 0.4154 - acc: 0.8365 - val_loss: 0.5526 - val_acc: 0.6909\n",
            "Epoch 16/30\n",
            "30/30 [==============================] - 262s 9s/step - loss: 0.3906 - acc: 0.8458 - val_loss: 0.6979 - val_acc: 0.6399\n",
            "Epoch 17/30\n",
            "30/30 [==============================] - 280s 9s/step - loss: 0.3822 - acc: 0.8396 - val_loss: 0.5155 - val_acc: 0.8182\n",
            "Epoch 18/30\n",
            "30/30 [==============================] - 258s 9s/step - loss: 0.3838 - acc: 0.8542 - val_loss: 0.5136 - val_acc: 0.7304\n",
            "Epoch 19/30\n",
            "30/30 [==============================] - 263s 9s/step - loss: 0.3750 - acc: 0.8594 - val_loss: 0.4562 - val_acc: 0.8189\n",
            "Epoch 20/30\n",
            "30/30 [==============================] - 281s 9s/step - loss: 0.3916 - acc: 0.8490 - val_loss: 0.7145 - val_acc: 0.6378\n",
            "Epoch 21/30\n",
            "29/30 [============================>.] - ETA: 5s - loss: 0.4002 - acc: 0.8373 "
          ]
        }
      ],
      "source": [
        "history=model.fit(train_generator,\n",
        "                  epochs=30,\n",
        "                  steps_per_epoch=30,\n",
        "                  callbacks=[checkpoint_cb],\n",
        "                  validation_data=validation_generator,\n",
        "                  )"
      ]
    },
    {
      "cell_type": "code",
      "execution_count": null,
      "metadata": {
        "id": "Nem5hVNLuJIx"
      },
      "outputs": [],
      "source": [
        "import pandas as pd\n",
        "history_df = pd.DataFrame(history.history)\n",
        "history_df.loc[:, ['loss','val_loss']].plot(title=\"Cross-entropy\")\n",
        "\n",
        "history_df.loc[:, ['acc', 'val_acc']].plot(title=\"Accuracy\")"
      ]
    },
    {
      "cell_type": "code",
      "execution_count": null,
      "metadata": {
        "id": "xSPjBCE9uJIy"
      },
      "outputs": [],
      "source": [
        "test_generator=validation_datagen.flow_from_directory(test_link,\n",
        "                                                 target_size=(250,300),\n",
        "                                                      batch_size=32,\n",
        "                                                class_mode='binary'      \n",
        "                                                 )"
      ]
    },
    {
      "cell_type": "code",
      "execution_count": null,
      "metadata": {
        "id": "z3J2V5_PuJIy"
      },
      "outputs": [],
      "source": [
        "ypred=model.evaluate(test_generator)"
      ]
    },
    {
      "cell_type": "code",
      "execution_count": null,
      "metadata": {
        "id": "fqlRz5f4uJIy"
      },
      "outputs": [],
      "source": [
        "ypred"
      ]
    },
    {
      "cell_type": "code",
      "execution_count": null,
      "metadata": {
        "id": "7NsREj2RuJIy"
      },
      "outputs": [],
      "source": [
        "import numpy \n",
        "from sklearn import metrics\n",
        "test_steps_per_epoch = numpy.math.ceil(test_generator.samples )\n",
        "\n",
        "predictions = model.predict_generator(test_generator, steps=test_steps_per_epoch)\n",
        "\n",
        "predicted_classes = numpy.argmax(predictions ,axis=1)\n",
        "\n",
        "\n",
        "true_classes = test_generator.classes\n",
        "class_labels = list(test_generator.class_indices.keys())   \n",
        "\n",
        "\n",
        "report = metrics.classification_report(true_classes, predicted_classes, target_names=class_labels)"
      ]
    },
    {
      "cell_type": "code",
      "execution_count": null,
      "metadata": {
        "id": "PATcRY_ZuJIz"
      },
      "outputs": [],
      "source": [
        "print(report)\n",
        "print(true_classes,class_labels,predicted_classes)"
      ]
    },
    {
      "cell_type": "code",
      "execution_count": null,
      "metadata": {
        "id": "UkA7Yq8guJIz"
      },
      "outputs": [],
      "source": [
        ""
      ]
    },
    {
      "cell_type": "code",
      "execution_count": null,
      "metadata": {
        "id": "BHZRZx4QuJIz"
      },
      "outputs": [],
      "source": [
        ""
      ]
    }
  ],
  "metadata": {
    "kernelspec": {
      "display_name": "Python 3",
      "language": "python",
      "name": "python3"
    },
    "language_info": {
      "codemirror_mode": {
        "name": "ipython",
        "version": 3
      },
      "file_extension": ".py",
      "mimetype": "text/x-python",
      "name": "python",
      "nbconvert_exporter": "python",
      "pygments_lexer": "ipython3",
      "version": "3.7.7"
    },
    "colab": {
      "name": "breast_cancer_detection.ipynb",
      "provenance": [],
      "collapsed_sections": []
    }
  },
  "nbformat": 4,
  "nbformat_minor": 0
}